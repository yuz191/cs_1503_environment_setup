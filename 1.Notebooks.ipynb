{
 "cells": [
  {
   "cell_type": "markdown",
   "id": "01980382",
   "metadata": {},
   "source": [
    "# Hello World\n",
    "1. Yuqing Zhang\n",
    "2. 1/20/2024"
   ]
  },
  {
   "cell_type": "markdown",
   "id": "001dfb67",
   "metadata": {},
   "source": [
    "## Markdown Exercises\n",
    "#### Why are you or are you not interested in machine learning?  \n",
    "_I am interested in machine learning because it offers the ability to analyze **vast amount** of data to **meaningful pattern**. I am curious about how machine learning works and why it can play an such important role in **various industry**._\n",
    "#### Make a Markdown list of 3--5 things you'd like to learn from this course.  \n",
    "1. **Ways to find certain pattern in a large amount of data.**\n",
    "2. _Statistics knowledge that helps me understand the functions in machine learning._\n",
    "3. Why machine learning so important nowadays?"
   ]
  },
  {
   "cell_type": "markdown",
   "id": "b64edc1b",
   "metadata": {},
   "source": [
    "![Alt text](https://media.giphy.com/media/3NtY188QaxDdC/giphy.gif?cid=82a1493bw92lpqpfc0e2ag07hsffnr68xstqotcyg2zi9bgm&ep=v1_gifs_trending&rid=giphy.gif&ct=g)"
   ]
  },
  {
   "cell_type": "markdown",
   "id": "0d4e6934",
   "metadata": {},
   "source": [
    "## Jupyter Notebook Exercises"
   ]
  },
  {
   "cell_type": "code",
   "execution_count": 1,
   "id": "20afbf07",
   "metadata": {},
   "outputs": [
    {
     "name": "stdout",
     "output_type": "stream",
     "text": [
      "What is your name? Yuqing Zhang\n",
      "Hello Yuqing Zhang !\n"
     ]
    }
   ],
   "source": [
    "name = input(prompt=\"What is your name? \")\n",
    "print(\"Hello\", name, \"!\")"
   ]
  },
  {
   "cell_type": "code",
   "execution_count": null,
   "id": "a81e1927",
   "metadata": {},
   "outputs": [],
   "source": []
  }
 ],
 "metadata": {
  "kernelspec": {
   "display_name": "Python 3 (ipykernel)",
   "language": "python",
   "name": "python3"
  },
  "language_info": {
   "codemirror_mode": {
    "name": "ipython",
    "version": 3
   },
   "file_extension": ".py",
   "mimetype": "text/x-python",
   "name": "python",
   "nbconvert_exporter": "python",
   "pygments_lexer": "ipython3",
   "version": "3.11.4"
  }
 },
 "nbformat": 4,
 "nbformat_minor": 5
}
