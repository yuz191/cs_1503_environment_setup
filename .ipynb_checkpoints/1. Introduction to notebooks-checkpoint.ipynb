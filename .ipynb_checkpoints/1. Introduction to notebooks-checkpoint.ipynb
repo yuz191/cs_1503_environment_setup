{
 "cells": [
  {
   "cell_type": "markdown",
   "metadata": {},
   "source": [
    "# Part 1 - Intro to Jupyter Notebooks\n",
    "\n",
    "This document should help you to start with creating and editing Jupyter notebooks. The following exercises will teach you how to create your own notebook. In future, you'll usually have a pre-made notebook where you'll fill in your answers in code or Markdown cells. \n"
   ]
  },
  {
   "cell_type": "markdown",
   "metadata": {},
   "source": [
    "---\n",
    "\n",
    "## **Exercise 1: create a new notebook**\n",
    "\n",
    "1. Go to File → New notebook → Python 3. This creates a new Jupyter Notebook file. \n",
    "2. Click on the name of a new file and rename it to \"`1.Notebooks.ipynb`\". \n",
    "3. Change the first cell in your new notebook to the Markdown cell by clicking on the menu that says \"Code\" and selecting \"Markdown\".\n",
    "4. Try writing some Markdown (and creating a title by using `# ` and text after it) and executing it with Shift-Enter or by pressing a Run icon.\n",
    "\n",
    "---\n"
   ]
  },
  {
   "cell_type": "markdown",
   "metadata": {},
   "source": [
    "## Saving your work\n",
    "\n",
    "By default your work is autosaved at predefined intervals. We still highly recomend you save your work often pressing on the floppy icon."
   ]
  },
  {
   "cell_type": "markdown",
   "metadata": {},
   "source": [
    "## Double-click\n",
    "\n",
    "**Double click** on this cell. You can edit any cell in a notebook by clicking on it, and then hit Shift-Enter to run the cell."
   ]
  },
  {
   "cell_type": "markdown",
   "metadata": {},
   "source": [
    "---\n",
    "\n",
    "## **Exercise 2: Markdown**\n",
    "\n",
    "Just for reference, check out this [Markdown cheatsheet](https://github.com/adam-p/markdown-here/wiki/Markdown-Cheatsheet) again.\n",
    "\n",
    "1. In the top markdown cell of your your notebook \"`1.Notebooks.ipynb`\", create a level 1 header and give your notebook a title. You can give it any title you want.\n",
    "2. Below the title, create a list with two elements: your name, and today's date.\n",
    "3. Create a new Markdown cell and put the following text at the top:    \n",
    "`## Markdown Exercises`\n",
    "4. Write a paragraph of text that answers the following questions. Include some **bold** and *italic* text.\n",
    "    * Why are you or are you not interested in machine learning?\n",
    "    * Make a Markdown list of 3--5 things you'd like to learn from this course.\n",
    "\n",
    "During your writing, feel free to use other Markdown styles or test out anything fancy, like writing HTML!"
   ]
  },
  {
   "cell_type": "markdown",
   "metadata": {},
   "source": [
    "---\n",
    "\n",
    "## **Exercise 3: Just a bit more of Markdown**\n",
    "\n",
    "1. Create a new Markdown cell.\n",
    "2. Now visit https://giphy.com/ and find an animated gif that represents how you feel at this\n",
    "moment. Click on the GIF, then click \"Copy Link\" and get the \"GIF Link\" from the page.\n",
    "3. Use Markdown image notation to insert the GIF you found into the Markdown cell. (*Hint: it's a lot like link notation but more exciting.*)\n",
    "\n",
    "---"
   ]
  },
  {
   "cell_type": "markdown",
   "metadata": {},
   "source": [
    "---\n",
    "\n",
    "## **Exercise 4: executing code in the Jupyter Notebook**\n",
    "\n",
    "1. Create a new Markdown cell with just the following text:    \n",
    "`## Jupyter Notebook Exercises`\n",
    "2. Create a new code cell, then copy the following Python code into the cell and execute it:    \n",
    "`name = input(prompt=\"What is your name? \")`    \n",
    "`print(\"Hello\", name, \"!\")`\n",
    "3. Run that code."
   ]
  },
  {
   "cell_type": "markdown",
   "metadata": {},
   "source": [
    "---\n",
    "\n",
    "## **Exercise 5: saving your work**\n",
    "\n",
    "1. Save your notebook.\n",
    "2. In the terminal move inside the folder representing the repository you forked and then cloned. \n",
    "2. Commit your changes by executing the following git commands:\n",
    "`git add *`\n",
    "`git commit -m \"finished part 1\"`\n",
    "`git push`\n",
    "\n",
    "\n",
    "You might need to set your github user name for the first time you are pushing into a remote repository. But after that it will work automatically.\n",
    "\n",
    "Good job, and continue to the next notebook."
   ]
  }
 ],
 "metadata": {
  "kernelspec": {
   "display_name": "Python 3 (ipykernel)",
   "language": "python",
   "name": "python3"
  },
  "language_info": {
   "codemirror_mode": {
    "name": "ipython",
    "version": 3
   },
   "file_extension": ".py",
   "mimetype": "text/x-python",
   "name": "python",
   "nbconvert_exporter": "python",
   "pygments_lexer": "ipython3",
   "version": "3.11.4"
  },
  "vscode": {
   "interpreter": {
    "hash": "75e4a6a75c2bafdb358241a31c28830e81db8b6e5287e59fc181d3e0eb9324ab"
   }
  }
 },
 "nbformat": 4,
 "nbformat_minor": 4
}
